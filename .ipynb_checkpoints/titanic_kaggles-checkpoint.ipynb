{
 "cells": [
  {
   "cell_type": "code",
   "execution_count": 17,
   "id": "d5e8018b",
   "metadata": {},
   "outputs": [],
   "source": [
    "import pandas as pd\n",
    "import numpy as np\n",
    "from tqdm import trange"
   ]
  },
  {
   "cell_type": "code",
   "execution_count": 18,
   "id": "00b9b297",
   "metadata": {},
   "outputs": [],
   "source": [
    "# Define the Dataset location and results location\n",
    "data_dir = 'D:/Northeastern University/22Summer/Machine Learning Engineering/Machine_Learning_from_Disaster/Datasets/'\n",
    "trainData_dir = data_dir + 'train.csv'\n",
    "testData_dir = data_dir + 'test.csv'\n"
   ]
  },
  {
   "cell_type": "code",
   "execution_count": 20,
   "id": "ce789abf",
   "metadata": {
    "scrolled": true
   },
   "outputs": [],
   "source": [
    "# Read the original training data \n",
    "'''\n",
    "survival: Survival, 0 = No, 1 = Yes\n",
    "pclass: Ticket class, 1 = 1st, 2 = 2nd, 3 = 3rd\n",
    "sex: Sex\n",
    "Age: Age in years\n",
    "sibsp: Number of siblings / spouses aboard the Titanic\n",
    "parch: Number of parents / children aboard the Titanic\n",
    "ticket: Ticket number\n",
    "fare: Passenger fare\n",
    "cabin: Cabin number\n",
    "embarked: Port of Embarkation, C = Cherbourg, Q = Queenstown, S = Southampton\n",
    "'''\n",
    "trainData = pd.read_csv(trainData_dir) #training dataset\n",
    "testData = pd.read_csv(testData_dir) # test dataset\n",
    "trainData.head()\n",
    "# Read the original test data \n",
    "\n",
    "\n"
   ]
  },
  {
   "cell_type": "code",
   "execution_count": null,
   "id": "5c9f0d11",
   "metadata": {},
   "outputs": [],
   "source": []
  },
  {
   "cell_type": "code",
   "execution_count": null,
   "id": "3e1ce4c2",
   "metadata": {},
   "outputs": [],
   "source": []
  }
 ],
 "metadata": {
  "kernelspec": {
   "display_name": "Python 3 (ipykernel)",
   "language": "python",
   "name": "python3"
  },
  "language_info": {
   "codemirror_mode": {
    "name": "ipython",
    "version": 3
   },
   "file_extension": ".py",
   "mimetype": "text/x-python",
   "name": "python",
   "nbconvert_exporter": "python",
   "pygments_lexer": "ipython3",
   "version": "3.9.7"
  }
 },
 "nbformat": 4,
 "nbformat_minor": 5
}
